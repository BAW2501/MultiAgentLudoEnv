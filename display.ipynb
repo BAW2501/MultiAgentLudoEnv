{
 "cells": [
  {
   "cell_type": "code",
   "execution_count": 3,
   "metadata": {},
   "outputs": [],
   "source": [
    "from svgManipulator import LudoVisualizer\n",
    "from IPython.display import SVG, display,clear_output\n",
    "from MultiAgentLudoEnv import LudoEnv\n",
    "from time import sleep\n"
   ]
  },
  {
   "cell_type": "code",
   "execution_count": 8,
   "metadata": {},
   "outputs": [
    {
     "name": "stdout",
     "output_type": "stream",
     "text": [
      "Agent 3 has reached the final square.\n"
     ]
    }
   ],
   "source": [
    "board = LudoVisualizer()\n",
    "env = LudoEnv()\n",
    "env.reset()\n",
    "\n",
    "for agent in env.agent_iter():    \n",
    "    observation, reward, termination, truncation, info = env.last()\n",
    "    if termination or truncation:\n",
    "        print(f\"Agent {agent} has reached the final square.\")\n",
    "        break\n",
    "    # this is where you would insert your policy\n",
    "    action = env.action_space(agent).sample()\n",
    "    env.step(action)\n",
    "    clear_output()\n",
    "    board.set_board_from_array(env.board_state.tolist())\n",
    "    display(SVG(board.get_svg_string()))\n",
    "    sleep(0.1)\n",
    "    # env.render()\n",
    "env.close()"
   ]
  },
  {
   "cell_type": "code",
   "execution_count": null,
   "metadata": {},
   "outputs": [],
   "source": []
  }
 ],
 "metadata": {
  "kernelspec": {
   "display_name": "Python 3",
   "language": "python",
   "name": "python3"
  },
  "language_info": {
   "codemirror_mode": {
    "name": "ipython",
    "version": 3
   },
   "file_extension": ".py",
   "mimetype": "text/x-python",
   "name": "python",
   "nbconvert_exporter": "python",
   "pygments_lexer": "ipython3",
   "version": "3.12.3"
  }
 },
 "nbformat": 4,
 "nbformat_minor": 2
}
