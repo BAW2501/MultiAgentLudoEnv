{
 "cells": [
  {
   "cell_type": "code",
   "execution_count": 1,
   "metadata": {},
   "outputs": [],
   "source": [
    "from svgManipulator import LudoVisualizer\n",
    "from IPython.display import SVG, display,clear_output\n",
    "from MultiAgentLudoEnv import LudoEnv\n",
    "from time import sleep\n"
   ]
  },
  {
   "cell_type": "code",
   "execution_count": 2,
   "metadata": {},
   "outputs": [
    {
     "data": {
      "image/svg+xml": [
       "<svg xmlns=\"http://www.w3.org/2000/svg\" viewBox=\"0 0 150 150\">\n",
       "    <defs>\n",
       "        <pattern id=\"grid\" width=\"10\" height=\"10\" patternUnits=\"userSpaceOnUse\">\n",
       "            <path d=\"M0 0V10H10V0Z\" fill=\"none\" stroke=\"black\" stroke-width=\"0.5\"/>\n",
       "        </pattern>\n",
       "    </defs>\n",
       "    \n",
       "    <g fill=\"black\">\n",
       "        <rect width=\"60\" height=\"60\" x=\"0\" y=\"0\"/>\n",
       "        <rect width=\"60\" height=\"60\" x=\"0\" y=\"90\"/>\n",
       "        <rect width=\"60\" height=\"60\" x=\"90\" y=\"0\"/>\n",
       "        <rect width=\"60\" height=\"60\" x=\"90\" y=\"90\"/>\n",
       "    </g>\n",
       "\n",
       "    <rect width=\"40\" height=\"40\" x=\"10\" y=\"10\" fill=\"green\"/>\n",
       "    <rect width=\"40\" height=\"40\" x=\"10\" y=\"100\" fill=\"yellow\"/>\n",
       "    <rect width=\"40\" height=\"40\" x=\"100\" y=\"10\" fill=\"red\"/>\n",
       "    <rect width=\"40\" height=\"40\" x=\"100\" y=\"100\" fill=\"blue\"/>\n",
       "\n",
       "    <g fill=\"white\">\n",
       "        <rect width=\"20\" height=\"20\" x=\"20\" y=\"20\"/>\n",
       "        <rect width=\"20\" height=\"20\" x=\"20\" y=\"110\"/>\n",
       "        <rect width=\"20\" height=\"20\" x=\"110\" y=\"20\"/>\n",
       "        <rect width=\"20\" height=\"20\" x=\"110\" y=\"110\"/>\n",
       "    </g>\n",
       "    \n",
       "    <path d=\"M10 60h10v10H10zm0 10h50v10H10z\" fill=\"green\"/>\n",
       "    <path d=\"M10 60h10v10H10zm0 10h50v10H10z\" fill=\"yellow\" transform=\"rotate(-90) translate(-150,0)\"/>\n",
       "    <path d=\"M10 60h10v10H10zm0 10h50v10H10z\" fill=\"red\" transform=\"rotate(90) translate(0,-150)\"/>\n",
       "    <path d=\"M10 60h10v10H10zm0 10h50v10H10z\" fill=\"blue\" transform=\"rotate(-180) translate(-150,-150)\"/>\n",
       "\n",
       "    <rect width=\"100%\" height=\"100%\" fill=\"url(#grid)\"/>\n",
       "    <g stroke=\"black\" stroke-width=\".3\">\n",
       "        \n",
       "        <path d=\"m60 60 15 15-15 15z\" fill=\"green\"/>\n",
       "        <path d=\"m60 60 15 15 15-15z\" fill=\"red\"/>\n",
       "        <path d=\"m60 90 15-15 15 15z\" fill=\"yellow\"/>\n",
       "        <path d=\"M90 60 75 75l15 15z\" fill=\"blue\"/>\n",
       "\n",
       "        \n",
       "        <g fill=\"green\">\n",
       "            <circle cx=\"65.0\" cy=\"75.0\" r=\"4\"/>\n",
       "            <circle cx=\"85.0\" cy=\"135.0\" r=\"4\"/>\n",
       "            <circle cx=\"65.0\" cy=\"135.0\" r=\"4\"/>\n",
       "            <circle cx=\"25.0\" cy=\"35.0\" r=\"4\"/>\n",
       "        </g>\n",
       "        <g fill=\"red\">\n",
       "            <circle cx=\"75.0\" cy=\"65.0\" r=\"4\"/>\n",
       "            <circle cx=\"75.0\" cy=\"65.0\" r=\"4\"/>\n",
       "            <circle cx=\"75.0\" cy=\"145.0\" r=\"4\"/>\n",
       "            <circle cx=\"75.0\" cy=\"65.0\" r=\"4\"/>\n",
       "        </g>\n",
       "        <g fill=\"blue\">\n",
       "            <circle cx=\"85.0\" cy=\"75.0\" r=\"4\"/>\n",
       "            <circle cx=\"85.0\" cy=\"75.0\" r=\"4\"/>\n",
       "            <circle cx=\"85.0\" cy=\"75.0\" r=\"4\"/>\n",
       "            <circle cx=\"85.0\" cy=\"75.0\" r=\"4\"/>\n",
       "        </g>\n",
       "        <g fill=\"yellow\">\n",
       "            <circle cx=\"75.0\" cy=\"85.0\" r=\"4\"/>\n",
       "            <circle cx=\"75.0\" cy=\"95.0\" r=\"4\"/>\n",
       "            <circle cx=\"75.0\" cy=\"85.0\" r=\"4\"/>\n",
       "            <circle cx=\"75.0\" cy=\"85.0\" r=\"4\"/>\n",
       "        </g>\n",
       "    </g>\n",
       "</svg>"
      ],
      "text/plain": [
       "<IPython.core.display.SVG object>"
      ]
     },
     "metadata": {},
     "output_type": "display_data"
    },
    {
     "name": "stdout",
     "output_type": "stream",
     "text": [
      "Agent 2 has reached the final square.\n"
     ]
    }
   ],
   "source": [
    "board = LudoVisualizer()\n",
    "env = LudoEnv()\n",
    "env.reset()\n",
    "\n",
    "for agent in env.agent_iter():    \n",
    "    observation, reward, termination, truncation, info = env.last()\n",
    "    if termination or truncation:\n",
    "        print(f\"Agent {agent} has reached the final square.\")\n",
    "        break\n",
    "    # this is where you would insert your policy\n",
    "    action = env.action_space(agent).sample()\n",
    "    env.step(action)\n",
    "    clear_output()\n",
    "    board.set_board_from_array(env.board_state.tolist())\n",
    "    display(SVG(board.get_svg_string()))\n",
    "    sleep(0.1)\n",
    "    # env.render()\n",
    "env.close()"
   ]
  }
 ],
 "metadata": {
  "kernelspec": {
   "display_name": "Python 3",
   "language": "python",
   "name": "python3"
  },
  "language_info": {
   "codemirror_mode": {
    "name": "ipython",
    "version": 3
   },
   "file_extension": ".py",
   "mimetype": "text/x-python",
   "name": "python",
   "nbconvert_exporter": "python",
   "pygments_lexer": "ipython3",
   "version": "3.12.3"
  }
 },
 "nbformat": 4,
 "nbformat_minor": 2
}
